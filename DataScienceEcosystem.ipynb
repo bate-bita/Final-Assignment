{
  "metadata": {
    "kernelspec": {
      "name": "python",
      "display_name": "Pyolite",
      "language": "python"
    },
    "language_info": {
      "codemirror_mode": {
        "name": "python",
        "version": 3
      },
      "file_extension": ".py",
      "mimetype": "text/x-python",
      "name": "python",
      "nbconvert_exporter": "python",
      "pygments_lexer": "ipython3",
      "version": "3.8"
    }
  },
  "nbformat_minor": 4,
  "nbformat": 4,
  "cells": [
    {
      "cell_type": "markdown",
      "source": "<center>\n    <img src=\"https://cf-courses-data.s3.us.cloud-object-storage.appdomain.cloud/IBMDeveloperSkillsNetwork-DS0105EN-SkillsNetwork/labs/Module2/images/SN_web_lightmode.png\" width=\"300\" alt=\"cognitiveclass.ai logo\">\n</center>\n",
      "metadata": {}
    },
    {
      "cell_type": "markdown",
      "source": "#### Add your code below following the instructions given in the course\n",
      "metadata": {}
    },
    {
      "cell_type": "markdown",
      "source": "<H1> Data Science Tools and Ecosystem </H1>",
      "metadata": {}
    },
    {
      "cell_type": "markdown",
      "source": "This Notebook is aimed at summarizing Data Science Tools and Ecosystem.",
      "metadata": {}
    },
    {
      "cell_type": "markdown",
      "source": "<b> Objectives: </b>\n<ul><li> Most used languages by Data Scientists </ul></li>\n<ul><li> Commonly used Libraries </ul></li>\n<ul><li> Data Science Tools </ul></li>\n<ul><li> Examples of evaluating code </ul></li>",
      "metadata": {}
    },
    {
      "cell_type": "markdown",
      "source": "Some of the most used languages by Data Scientists include;\n<ol> 1. Python </ol>\n<ol> 2. R </ol>\n<ol> 3. SQL </ol>",
      "metadata": {}
    },
    {
      "cell_type": "markdown",
      "source": "Below are some of the commonly used libraries Data Scientists use;\n<ol> 1. Pandas </ol>\n<ol> 2. NumPy </ol>\n<ol> 3. Matplotlib </ol>\n<ol> 4. Scikit-Learn </ol>",
      "metadata": {}
    },
    {
      "cell_type": "markdown",
      "source": "<table> \n    <th> Data Science Tools </th> \n    <tr><td> 1. Jupyter </td></tr>\n    <tr><td> 2. Jupyter Lab </td></tr>\n    <tr><td> 3. Apache Zeppelin </td></tr>\n</table>",
      "metadata": {}
    },
    {
      "cell_type": "markdown",
      "source": "<H3> Below are a few examples of evaluating arithmetic expressions in Python. </H3> ",
      "metadata": {}
    },
    {
      "cell_type": "markdown",
      "source": "This is a simple arithmetic expression that multiplies, then adds integers.",
      "metadata": {}
    },
    {
      "cell_type": "code",
      "source": "(3*4)+5",
      "metadata": {
        "trusted": true
      },
      "execution_count": 4,
      "outputs": [
        {
          "execution_count": 4,
          "output_type": "execute_result",
          "data": {
            "text/plain": "17"
          },
          "metadata": {}
        }
      ]
    },
    {
      "cell_type": "markdown",
      "source": "The following code will convert 200 minutes into hours. The output will be in hours",
      "metadata": {}
    },
    {
      "cell_type": "code",
      "source": "200 / 60 ",
      "metadata": {
        "trusted": true
      },
      "execution_count": 6,
      "outputs": [
        {
          "execution_count": 6,
          "output_type": "execute_result",
          "data": {
            "text/plain": "3.3333333333333335"
          },
          "metadata": {}
        }
      ]
    },
    {
      "cell_type": "markdown",
      "source": "<H2> Author </H2>\nBate Bita Tambe",
      "metadata": {}
    }
  ]
}